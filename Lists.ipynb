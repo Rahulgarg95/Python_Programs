{
 "cells": [
  {
   "cell_type": "markdown",
   "metadata": {},
   "source": [
    "### Python List Problems ==> https://www.geeksforgeeks.org/python-programming-examples/"
   ]
  },
  {
   "cell_type": "markdown",
   "metadata": {},
   "source": [
    "**Objective: To solve multiple problems using Python Arrays/List and finding a optimal solution for each problem.**"
   ]
  },
  {
   "cell_type": "markdown",
   "metadata": {},
   "source": [
    "1. Python Program to find sum of array"
   ]
  },
  {
   "cell_type": "code",
   "execution_count": 3,
   "metadata": {},
   "outputs": [
    {
     "name": "stdout",
     "output_type": "stream",
     "text": [
      "Sum of array is:  28\n",
      "Sum of array is:  28\n"
     ]
    }
   ],
   "source": [
    "arr=[1,2,3,4,5,6,7]\n",
    "\n",
    "#Sum using inbuilt func\n",
    "print('Sum of array is: ',sum(arr))\n",
    "\n",
    "#Sum using iteration without inbuilt funct\n",
    "arr_sum=0\n",
    "for i in arr:\n",
    "    arr_sum+=i\n",
    "print('Sum of array is: ',arr_sum)"
   ]
  },
  {
   "cell_type": "markdown",
   "metadata": {},
   "source": [
    "2. Python Program to find largest element in an array"
   ]
  },
  {
   "cell_type": "code",
   "execution_count": 5,
   "metadata": {},
   "outputs": [
    {
     "name": "stdout",
     "output_type": "stream",
     "text": [
      "Max el of array is:  785\n",
      "Max el of arrat is:  785\n"
     ]
    }
   ],
   "source": [
    "arr=[5.2,9,565,36,785,1]\n",
    "\n",
    "#Using Max inbuilt func\n",
    "print('Max el of array is: ',max(arr))\n",
    "\n",
    "#Using iteration\n",
    "max_el=0\n",
    "for i in arr:\n",
    "    if(i>max_el):\n",
    "        max_el=i\n",
    "print('Max el of arrat is: ',max_el)"
   ]
  },
  {
   "cell_type": "markdown",
   "metadata": {},
   "source": [
    "3. Python Program for array rotation"
   ]
  },
  {
   "cell_type": "code",
   "execution_count": 16,
   "metadata": {},
   "outputs": [],
   "source": [
    "arr=[1,2,3,4,5,6,7,8]\n",
    "\n",
    "k=3 #Array to be rotated with 3 elements"
   ]
  },
  {
   "cell_type": "code",
   "execution_count": 17,
   "metadata": {},
   "outputs": [],
   "source": [
    "#Solution 1:\n",
    "for i in range(3):\n",
    "    arr.append(arr[0])\n",
    "    arr.remove(arr[0])\n",
    "print('Updated Array: ',arr)"
   ]
  },
  {
   "cell_type": "markdown",
   "metadata": {},
   "source": [
    "4. Python Program for Reversal algorithm for array rotation"
   ]
  },
  {
   "cell_type": "markdown",
   "metadata": {},
   "source": [
    "Procedure:\n",
    "\n",
    "    1. Reverse A to get ArB, where Ar is reverse of A.    \n",
    "    2. Reverse B to get ArBr, where Br is reverse of B.\n",
    "    3. Reverse all to get (ArBr) r = BA."
   ]
  },
  {
   "cell_type": "code",
   "execution_count": 30,
   "metadata": {},
   "outputs": [],
   "source": [
    "def arr_reversal(tmp_arr):\n",
    "    start=0\n",
    "    end=len(tmp_arr) - 1\n",
    "    while(start<end):\n",
    "        tmp=tmp_arr[start]\n",
    "        tmp_arr[start]=tmp_arr[end]\n",
    "        tmp_arr[end]=tmp\n",
    "        start+=1\n",
    "        end-=1\n",
    "    return tmp_arr"
   ]
  },
  {
   "cell_type": "code",
   "execution_count": 31,
   "metadata": {},
   "outputs": [
    {
     "name": "stdout",
     "output_type": "stream",
     "text": [
      "Rotated Array is:  [4, 5, 6, 7, 8, 1, 2, 3]\n"
     ]
    }
   ],
   "source": [
    "arr=[1,2,3,4,5,6,7,8]\n",
    "k=3\n",
    "A=arr[0:k]\n",
    "B=arr[k:]\n",
    "#print('A: ',A)\n",
    "#print('B: ',B)\n",
    "#We can also use A_rev=A[::-1] and B_rev=B[::-1] to get reversed arrays.\n",
    "A_rev=arr_reversal(A)\n",
    "B_rev=arr_reversal(B)\n",
    "#print(A_rev)\n",
    "A_rev.extend(B_rev)\n",
    "print('Rotated Array is: ', arr_reversal(A_rev))"
   ]
  },
  {
   "cell_type": "markdown",
   "metadata": {},
   "source": [
    "5. Python Program to Split the array and add the first part to the end"
   ]
  },
  {
   "cell_type": "markdown",
   "metadata": {},
   "source": [
    "**Same as problem 3**"
   ]
  },
  {
   "cell_type": "markdown",
   "metadata": {},
   "source": [
    "6. Python Program for Find reminder of array multiplication divided by n"
   ]
  },
  {
   "cell_type": "code",
   "execution_count": 41,
   "metadata": {},
   "outputs": [
    {
     "name": "stdout",
     "output_type": "stream",
     "text": [
      "The remainder of arrat multiplication divided by 101 is 47\n"
     ]
    }
   ],
   "source": [
    "arr=[5,7,6,2,5,43,76,1,65]\n",
    "n=101\n",
    "mul_tmp=1\n",
    "\n",
    "for i in arr:\n",
    "    mul_tmp*=i\n",
    "print('The remainder of arrat multiplication divided by {} is {}'.format(n,mul_tmp%n))"
   ]
  },
  {
   "cell_type": "markdown",
   "metadata": {},
   "source": [
    "7. Python Program to check if given array is Monotonic"
   ]
  },
  {
   "cell_type": "code",
   "execution_count": 61,
   "metadata": {},
   "outputs": [],
   "source": [
    "def is_monotonic(arr):\n",
    "    x=all([arr[i]<=arr[i+1] for i in range(len(arr)-1)])\n",
    "    y=all([arr[i]>=arr[i+1] for i in range(len(arr)-1)])\n",
    "    return x|y"
   ]
  },
  {
   "cell_type": "code",
   "execution_count": 65,
   "metadata": {},
   "outputs": [
    {
     "name": "stdout",
     "output_type": "stream",
     "text": [
      "True\n",
      "False\n"
     ]
    }
   ],
   "source": [
    "arr=[10,20,30,40,50,80,100,1200]\n",
    "arr1=[10,20,30,5,60,80]\n",
    "print(is_monotonic(arr))\n",
    "print(is_monotonic(arr1))"
   ]
  },
  {
   "cell_type": "markdown",
   "metadata": {},
   "source": [
    "#### List Programs"
   ]
  },
  {
   "cell_type": "markdown",
   "metadata": {},
   "source": [
    "1. Python program to interchange first and last elements in a list"
   ]
  },
  {
   "cell_type": "code",
   "execution_count": 66,
   "metadata": {},
   "outputs": [
    {
     "name": "stdout",
     "output_type": "stream",
     "text": [
      "Changed List:  [8, 2, 3, 4, 5, 6, 7, 1]\n"
     ]
    }
   ],
   "source": [
    "l1=[1,2,3,4,5,6,7,8]\n",
    "tmp=l1[0]\n",
    "l1[0]=l1[-1]\n",
    "l1[-1]=tmp\n",
    "print('Changed List: ',l1)"
   ]
  },
  {
   "cell_type": "markdown",
   "metadata": {},
   "source": [
    "2. Python program to swap two elements in a list given two pos"
   ]
  },
  {
   "cell_type": "code",
   "execution_count": 67,
   "metadata": {},
   "outputs": [
    {
     "name": "stdout",
     "output_type": "stream",
     "text": [
      "Swaped El List:  [1, 5, 3, 4, 2, 6, 7, 8, 9, 10]\n"
     ]
    }
   ],
   "source": [
    "l1=[1,2,3,4,5,6,7,8,9,10]\n",
    "pos1=2\n",
    "pos2=5\n",
    "tmp=l1[pos1-1]\n",
    "l1[pos1-1]=l1[pos2-1]\n",
    "l1[pos2-1]=tmp\n",
    "print('Swaped El List: ',l1)"
   ]
  },
  {
   "cell_type": "markdown",
   "metadata": {},
   "source": [
    "3. Python | Ways to find length of list"
   ]
  },
  {
   "cell_type": "code",
   "execution_count": 68,
   "metadata": {},
   "outputs": [
    {
     "name": "stdout",
     "output_type": "stream",
     "text": [
      "Length of list:  10\n",
      "Length of list:  10\n"
     ]
    }
   ],
   "source": [
    "l1=[1,2,3,4,5,6,7,8,9,10]\n",
    "\n",
    "#Using len method\n",
    "print('Length of list: ',len(l1))\n",
    "\n",
    "#using For Loop\n",
    "list_len=0\n",
    "for i in l1:\n",
    "    list_len+=1\n",
    "print('Length of list: ',list_len)"
   ]
  },
  {
   "cell_type": "markdown",
   "metadata": {},
   "source": [
    "4. Python | Ways to check if element exists in list"
   ]
  },
  {
   "cell_type": "code",
   "execution_count": 76,
   "metadata": {},
   "outputs": [
    {
     "name": "stdout",
     "output_type": "stream",
     "text": [
      "Element exists in list...\n",
      "Element found\n"
     ]
    }
   ],
   "source": [
    "l1=[1,2,3,4,5,6,7,8,9,10]\n",
    "\n",
    "el=5\n",
    "el1=11\n",
    "#Using in keyword\n",
    "if(el in l1):\n",
    "    print('Element exists in list...')\n",
    "else:\n",
    "    print('Element does not exist in list...')\n",
    "\n",
    "#Using for else loop\n",
    "for a in l1:\n",
    "    if(a==el):\n",
    "        print('Element found')\n",
    "        break\n",
    "else:\n",
    "    print('Element Not Found..')"
   ]
  },
  {
   "cell_type": "markdown",
   "metadata": {},
   "source": [
    "5. Different ways to clear a list in Python"
   ]
  },
  {
   "cell_type": "code",
   "execution_count": 79,
   "metadata": {},
   "outputs": [
    {
     "name": "stdout",
     "output_type": "stream",
     "text": [
      "[]\n"
     ]
    }
   ],
   "source": [
    "#Using clear method\n",
    "l1=[1,2,3,4,5,6,7,8,9,10]\n",
    "l1.clear()\n",
    "print(l1)"
   ]
  },
  {
   "cell_type": "code",
   "execution_count": 80,
   "metadata": {},
   "outputs": [
    {
     "name": "stdout",
     "output_type": "stream",
     "text": [
      "[]\n"
     ]
    }
   ],
   "source": [
    "#Using *=0 way\n",
    "l1=[1,2,3,4,5,6,7,8,9,10]\n",
    "l1*=0\n",
    "print(l1)"
   ]
  },
  {
   "cell_type": "markdown",
   "metadata": {},
   "source": [
    "6. Python | Reversing a List"
   ]
  },
  {
   "cell_type": "code",
   "execution_count": 81,
   "metadata": {},
   "outputs": [
    {
     "name": "stdout",
     "output_type": "stream",
     "text": [
      "Reversed List:  [6, 5, 4, 3, 2, 1]\n"
     ]
    }
   ],
   "source": [
    "l1=[1,2,3,4,5,6]\n",
    "print('Reversed List: ',l1[::-1])"
   ]
  },
  {
   "cell_type": "markdown",
   "metadata": {},
   "source": [
    "7. Python program to find sum of elements in list"
   ]
  },
  {
   "cell_type": "code",
   "execution_count": 82,
   "metadata": {},
   "outputs": [
    {
     "name": "stdout",
     "output_type": "stream",
     "text": [
      "Sum of list:  15\n"
     ]
    }
   ],
   "source": [
    "l1=[1,2,3,4,5]\n",
    "print('Sum of list: ',sum(l1))"
   ]
  },
  {
   "cell_type": "markdown",
   "metadata": {},
   "source": [
    "8. Python | Multiply all numbers in the list"
   ]
  },
  {
   "cell_type": "code",
   "execution_count": 84,
   "metadata": {},
   "outputs": [
    {
     "name": "stdout",
     "output_type": "stream",
     "text": [
      "List Mul:  180\n"
     ]
    }
   ],
   "source": [
    "l1=[1,2,3,5,6]\n",
    "\n",
    "mul_l=1\n",
    "for el in l1:\n",
    "    mul_l*=el\n",
    "print('List Mul: ', mul_l)"
   ]
  },
  {
   "cell_type": "markdown",
   "metadata": {},
   "source": [
    "9. Python program to find smallest number in a list"
   ]
  },
  {
   "cell_type": "code",
   "execution_count": 85,
   "metadata": {},
   "outputs": [
    {
     "name": "stdout",
     "output_type": "stream",
     "text": [
      "Min el of list:  1\n"
     ]
    }
   ],
   "source": [
    "l1=[2,6,8,5,1]\n",
    "\n",
    "print('Min el of list: ',min(l1))"
   ]
  },
  {
   "cell_type": "markdown",
   "metadata": {},
   "source": [
    "10. Python program to find largest number in a list"
   ]
  },
  {
   "cell_type": "code",
   "execution_count": 86,
   "metadata": {},
   "outputs": [
    {
     "name": "stdout",
     "output_type": "stream",
     "text": [
      "Max el of list:  8\n"
     ]
    }
   ],
   "source": [
    "l1=[2,6,8,5,1]\n",
    "\n",
    "print('Max el of list: ', max(l1))"
   ]
  },
  {
   "cell_type": "markdown",
   "metadata": {},
   "source": [
    "11. Python program to find second largest number in a list"
   ]
  },
  {
   "cell_type": "code",
   "execution_count": 90,
   "metadata": {},
   "outputs": [
    {
     "name": "stdout",
     "output_type": "stream",
     "text": [
      "Second largest el:  6\n"
     ]
    }
   ],
   "source": [
    "l1=[2,6,8,5,1]\n",
    "\n",
    "#Sort and second last\n",
    "l1.sort()\n",
    "\n",
    "print('Second largest el: ', l1[-2])"
   ]
  },
  {
   "cell_type": "code",
   "execution_count": 91,
   "metadata": {},
   "outputs": [
    {
     "name": "stdout",
     "output_type": "stream",
     "text": [
      "Second largest el:  6\n"
     ]
    }
   ],
   "source": [
    "#Removing max el and check\n",
    "max_el=max(l1)\n",
    "l1.remove(max_el)\n",
    "\n",
    "max_el=max(l1)\n",
    "print('Second largest el: ', max_el)"
   ]
  },
  {
   "cell_type": "markdown",
   "metadata": {},
   "source": [
    "12. Python program to find N largest elements from a list"
   ]
  },
  {
   "cell_type": "code",
   "execution_count": 93,
   "metadata": {},
   "outputs": [
    {
     "name": "stdout",
     "output_type": "stream",
     "text": [
      "List of n-largest elments:  [9, 10, 65]\n"
     ]
    }
   ],
   "source": [
    "l1=[5,2,8,3,7,5,9,10,1,65]\n",
    "\n",
    "l1.sort()\n",
    "N=3\n",
    "print('List of n-largest elments: ',l1[-N:])"
   ]
  },
  {
   "cell_type": "markdown",
   "metadata": {},
   "source": [
    "13. Python program to print even numbers in a list"
   ]
  },
  {
   "cell_type": "code",
   "execution_count": 96,
   "metadata": {},
   "outputs": [
    {
     "name": "stdout",
     "output_type": "stream",
     "text": [
      "Even no list:  [2, 8, 10]\n"
     ]
    }
   ],
   "source": [
    "l1=[5,2,8,3,7,5,9,10,1,65]\n",
    "print('Even no list: ',[x for x in l1 if x%2==0])"
   ]
  },
  {
   "cell_type": "markdown",
   "metadata": {},
   "source": [
    "14. Python program to print odd numbers in a List"
   ]
  },
  {
   "cell_type": "code",
   "execution_count": 97,
   "metadata": {},
   "outputs": [
    {
     "name": "stdout",
     "output_type": "stream",
     "text": [
      "Odd no list:  [5, 3, 7, 5, 9, 1, 65]\n"
     ]
    }
   ],
   "source": [
    "l1=[5,2,8,3,7,5,9,10,1,65]\n",
    "print('Odd no list: ',[x for x in l1 if x%2!=0])"
   ]
  },
  {
   "cell_type": "markdown",
   "metadata": {},
   "source": [
    "15. Python program to print all even numbers in a range"
   ]
  },
  {
   "cell_type": "code",
   "execution_count": 98,
   "metadata": {},
   "outputs": [
    {
     "name": "stdout",
     "output_type": "stream",
     "text": [
      "Even no list:  [2, 4, 6, 8, 10, 12, 14, 16, 18, 20, 22, 24, 26, 28, 30, 32, 34, 36, 38, 40, 42, 44, 46, 48, 50]\n"
     ]
    }
   ],
   "source": [
    "n=50\n",
    "print('Even no list: ',[x for x in range(1,n+1) if x%2==0])"
   ]
  },
  {
   "cell_type": "markdown",
   "metadata": {},
   "source": [
    "16. Python program to print all odd numbers in a range"
   ]
  },
  {
   "cell_type": "code",
   "execution_count": 99,
   "metadata": {},
   "outputs": [
    {
     "name": "stdout",
     "output_type": "stream",
     "text": [
      "Odd no list:  [1, 3, 5, 7, 9, 11, 13, 15, 17, 19, 21, 23, 25, 27, 29, 31, 33, 35, 37, 39, 41, 43, 45, 47, 49]\n"
     ]
    }
   ],
   "source": [
    "n=50\n",
    "print('Odd no list: ',[x for x in range(1,n+1) if x%2!=0])"
   ]
  },
  {
   "cell_type": "markdown",
   "metadata": {},
   "source": [
    "17. Python program to print positive numbers in a list"
   ]
  },
  {
   "cell_type": "code",
   "execution_count": 102,
   "metadata": {},
   "outputs": [
    {
     "name": "stdout",
     "output_type": "stream",
     "text": [
      "Positive no list:  [0, 2, 4, 6, 8, 10, 12, 14, 16, 18]\n"
     ]
    }
   ],
   "source": [
    "print('Positive no list: ',[x for x in range(-20,20,2) if x>=0])"
   ]
  },
  {
   "cell_type": "markdown",
   "metadata": {},
   "source": [
    "18. Python program to print negative numbers in a list"
   ]
  },
  {
   "cell_type": "code",
   "execution_count": 103,
   "metadata": {},
   "outputs": [
    {
     "name": "stdout",
     "output_type": "stream",
     "text": [
      "Negative no list:  [-20, -18, -16, -14, -12, -10, -8, -6, -4, -2]\n"
     ]
    }
   ],
   "source": [
    "print('Negative no list: ',[x for x in range(-20,20,2) if x<0])"
   ]
  },
  {
   "cell_type": "markdown",
   "metadata": {},
   "source": [
    "19. Python program to print all positive numbers in a range"
   ]
  },
  {
   "cell_type": "code",
   "execution_count": 104,
   "metadata": {},
   "outputs": [
    {
     "name": "stdout",
     "output_type": "stream",
     "text": [
      "Positive no list:  [0, 5, 10, 15, 20, 25, 30, 35, 40, 45, 50, 55, 60, 65, 70, 75, 80, 85, 90, 95]\n"
     ]
    }
   ],
   "source": [
    "l1=-100\n",
    "l2=100\n",
    "print('Positive no list: ',[x for x in range(l1,l2,5) if x>=0])"
   ]
  },
  {
   "cell_type": "markdown",
   "metadata": {},
   "source": [
    "20. Python program to print all negative numbers in a range"
   ]
  },
  {
   "cell_type": "code",
   "execution_count": 105,
   "metadata": {},
   "outputs": [
    {
     "name": "stdout",
     "output_type": "stream",
     "text": [
      "Negative no list:  [-100, -95, -90, -85, -80, -75, -70, -65, -60, -55, -50, -45, -40, -35, -30, -25, -20, -15, -10, -5]\n"
     ]
    }
   ],
   "source": [
    "l1=-100\n",
    "l2=100\n",
    "print('Negative no list: ',[x for x in range(l1,l2,5) if x<0])"
   ]
  },
  {
   "cell_type": "markdown",
   "metadata": {},
   "source": [
    "21. Remove multiple elements from a list in Python"
   ]
  },
  {
   "cell_type": "code",
   "execution_count": 106,
   "metadata": {},
   "outputs": [
    {
     "name": "stdout",
     "output_type": "stream",
     "text": [
      "Old List:  [1, 2, 3, 4, 1, 4, 7, 9, 4, 8]\n",
      "New List:  [1, 2, 3, 4, 7, 8, 9]\n"
     ]
    }
   ],
   "source": [
    "l1=[1,2,3,4,1,4,7,9,4,8]\n",
    "print('Old List: ',l1)\n",
    "print('New List: ',list(set(l1)))"
   ]
  },
  {
   "cell_type": "markdown",
   "metadata": {},
   "source": [
    "22. Python – Remove empty List from List"
   ]
  },
  {
   "cell_type": "code",
   "execution_count": 119,
   "metadata": {},
   "outputs": [
    {
     "name": "stdout",
     "output_type": "stream",
     "text": [
      "[2, 7, 3, 6]\n"
     ]
    }
   ],
   "source": [
    "l1=[2,7,[],3,6,[]]\n",
    "\n",
    "#Using Iteration\n",
    "while([] in l1):\n",
    "    l1.remove([])\n",
    "print(l1)"
   ]
  },
  {
   "cell_type": "code",
   "execution_count": 122,
   "metadata": {},
   "outputs": [
    {
     "name": "stdout",
     "output_type": "stream",
     "text": [
      "[2, 7, 3, 6]\n"
     ]
    }
   ],
   "source": [
    "#Using List Comprehension\n",
    "l1=[2,7,[],3,6,[]]\n",
    "print([x for x in l1 if([]!=x)])"
   ]
  },
  {
   "cell_type": "markdown",
   "metadata": {},
   "source": [
    "23. Python | Cloning or Copying a list"
   ]
  },
  {
   "cell_type": "code",
   "execution_count": 125,
   "metadata": {},
   "outputs": [
    {
     "name": "stdout",
     "output_type": "stream",
     "text": [
      "Copied List:  [1, 2, 3, 4, 1, 4, 7, 9, 4, 8]\n",
      "Copied List2:  [1, 2, 3, 4, 1, 4, 7, 9, 4, 8]\n",
      "Deep Copied List:  [1, 2, 3, 4, 1, 4, 7, 9, 4, 8]\n"
     ]
    }
   ],
   "source": [
    "import copy\n",
    "l1=[1,2,3,4,1,4,7,9,4,8]\n",
    "\n",
    "#Shallow Copy\n",
    "l2=l1\n",
    "print('Copied List: ',l2)\n",
    "\n",
    "l2=l1.copy()\n",
    "print('Copied List2: ',l2)\n",
    "\n",
    "#Deep Copy\n",
    "l2=copy.deepcopy(l1)\n",
    "print('Deep Copied List: ',l2)"
   ]
  },
  {
   "cell_type": "markdown",
   "metadata": {},
   "source": [
    "24. Python | Count occurrences of an element in a list"
   ]
  },
  {
   "cell_type": "code",
   "execution_count": 126,
   "metadata": {},
   "outputs": [
    {
     "name": "stdout",
     "output_type": "stream",
     "text": [
      "Count of el 4 is 3\n"
     ]
    }
   ],
   "source": [
    "l1=[1,2,3,4,1,4,7,9,4,8]\n",
    "el=4\n",
    "cnt=0\n",
    "for x in l1:\n",
    "    if(x==el):\n",
    "        cnt+=1\n",
    "print('Count of el {} is {}'.format(el,cnt))"
   ]
  },
  {
   "cell_type": "markdown",
   "metadata": {},
   "source": [
    "25. Python | Remove empty tuples from a list"
   ]
  },
  {
   "cell_type": "code",
   "execution_count": 128,
   "metadata": {},
   "outputs": [
    {
     "name": "stdout",
     "output_type": "stream",
     "text": [
      "[2, 7, 3, 6, (2, 5, 9)]\n"
     ]
    }
   ],
   "source": [
    "#Using List Comprehension\n",
    "l1=[2,7,(),3,6,(),(2,5,9)]\n",
    "print([x for x in l1 if(()!=x)])"
   ]
  },
  {
   "cell_type": "markdown",
   "metadata": {},
   "source": [
    "26. Python | Program to print duplicates from a list of integers"
   ]
  },
  {
   "cell_type": "code",
   "execution_count": 130,
   "metadata": {},
   "outputs": [
    {
     "name": "stdout",
     "output_type": "stream",
     "text": [
      "{1, 4}\n"
     ]
    }
   ],
   "source": [
    "l1=[1,2,3,4,1,4,7,9,4,8]\n",
    "dict={}\n",
    "dup_set=set()\n",
    "for el in l1:\n",
    "    if(el not in dict):\n",
    "        dict[el]=1\n",
    "    else:\n",
    "        dict[el]+=1\n",
    "        dup_set.add(el)\n",
    "print(dup_set)"
   ]
  },
  {
   "cell_type": "markdown",
   "metadata": {},
   "source": [
    "27. Python program to find Cumulative sum of a list"
   ]
  },
  {
   "cell_type": "code",
   "execution_count": 133,
   "metadata": {},
   "outputs": [
    {
     "name": "stdout",
     "output_type": "stream",
     "text": [
      "[1, 3, 6, 10, 11, 15, 22, 31, 35, 43]\n"
     ]
    }
   ],
   "source": [
    "l1=[1,2,3,4,1,4,7,9,4,8]\n",
    "new_list=[]\n",
    "for idx,el in enumerate(l1):\n",
    "    new_list.append(sum(l1[:idx]) + el)\n",
    "print(new_list)"
   ]
  },
  {
   "cell_type": "markdown",
   "metadata": {},
   "source": [
    "28. Python | Sum of number digits in List"
   ]
  },
  {
   "cell_type": "code",
   "execution_count": 135,
   "metadata": {},
   "outputs": [
    {
     "name": "stdout",
     "output_type": "stream",
     "text": [
      "Old List:  [34, 452, 762, 23, 8, 100]\n",
      "New List:  [7, 11, 15, 5, 8, 1]\n"
     ]
    }
   ],
   "source": [
    "def digit_sum(num):\n",
    "    x_sum=0\n",
    "    while(num>9):\n",
    "        x_sum+=num%10\n",
    "        num=num//10\n",
    "    x_sum+=num\n",
    "    return x_sum\n",
    "l1=[34,452,762,23,8,100]\n",
    "new_list=[]\n",
    "for el in l1:\n",
    "    x=digit_sum(el)\n",
    "    new_list.append(x)\n",
    "\n",
    "print('Old List: ',l1)\n",
    "print('New List: ',new_list)"
   ]
  },
  {
   "cell_type": "markdown",
   "metadata": {},
   "source": [
    "29. Break a list into chunks of size N in Python"
   ]
  },
  {
   "cell_type": "code",
   "execution_count": 139,
   "metadata": {},
   "outputs": [
    {
     "name": "stdout",
     "output_type": "stream",
     "text": [
      "[1, 2, 3]\n",
      "[4, 1, 4]\n",
      "[7, 9, 4]\n",
      "[8]\n"
     ]
    }
   ],
   "source": [
    "l1=[1,2,3,4,1,4,7,9,4,8]\n",
    "N=3\n",
    "for i in range(0,len(l1),N):\n",
    "    print(l1[i:i+N])"
   ]
  },
  {
   "cell_type": "markdown",
   "metadata": {},
   "source": [
    "30. Python | Sort the values of first list using second list"
   ]
  },
  {
   "cell_type": "code",
   "execution_count": null,
   "metadata": {},
   "outputs": [],
   "source": []
  }
 ],
 "metadata": {
  "kernelspec": {
   "display_name": "Python 3",
   "language": "python",
   "name": "python3"
  },
  "language_info": {
   "codemirror_mode": {
    "name": "ipython",
    "version": 3
   },
   "file_extension": ".py",
   "mimetype": "text/x-python",
   "name": "python",
   "nbconvert_exporter": "python",
   "pygments_lexer": "ipython3",
   "version": "3.8.5"
  }
 },
 "nbformat": 4,
 "nbformat_minor": 4
}
