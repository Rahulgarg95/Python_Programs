{
 "cells": [
  {
   "cell_type": "markdown",
   "metadata": {},
   "source": [
    "### Python Basic Problems ==> https://www.geeksforgeeks.org/python-programming-examples/"
   ]
  },
  {
   "cell_type": "markdown",
   "metadata": {},
   "source": [
    "**Objective: To solve multiple problems in python and finding a optimal solution for each problem.**"
   ]
  },
  {
   "cell_type": "markdown",
   "metadata": {},
   "source": [
    "1. Python program to add two numbers."
   ]
  },
  {
   "cell_type": "code",
   "execution_count": 1,
   "metadata": {},
   "outputs": [],
   "source": [
    "def sum_no(a,b):\n",
    "    return a+b"
   ]
  },
  {
   "cell_type": "code",
   "execution_count": 2,
   "metadata": {},
   "outputs": [
    {
     "name": "stdout",
     "output_type": "stream",
     "text": [
      "Please input two numbers seperated by space: 10 20\n",
      "Sum of 10 and 20 is 30.0\n"
     ]
    }
   ],
   "source": [
    "user_input=input('Please input two numbers seperated by space: ')\n",
    "x,y=user_input.split()\n",
    "print('Sum of {} and {} is {}'.format(x,y,sum_no(float(x),float(y))))"
   ]
  },
  {
   "cell_type": "markdown",
   "metadata": {},
   "source": [
    "2. Maximum of two numbers in Python"
   ]
  },
  {
   "cell_type": "code",
   "execution_count": 3,
   "metadata": {},
   "outputs": [],
   "source": [
    "def find_max(a,b):\n",
    "    if(a>b):\n",
    "        return a\n",
    "    else:\n",
    "        return b"
   ]
  },
  {
   "cell_type": "code",
   "execution_count": 4,
   "metadata": {},
   "outputs": [
    {
     "name": "stdout",
     "output_type": "stream",
     "text": [
      "Please input two numbers seperated by space: 45 32\n",
      "Max of 45 and 32 is 45.0\n"
     ]
    }
   ],
   "source": [
    "user_input=input('Please input two numbers seperated by space: ')\n",
    "x,y=user_input.split()\n",
    "print('Max of {} and {} is {}'.format(x,y,find_max(float(x),float(y))))"
   ]
  },
  {
   "cell_type": "markdown",
   "metadata": {},
   "source": [
    "3. Python Program for factorial of a number"
   ]
  },
  {
   "cell_type": "code",
   "execution_count": 5,
   "metadata": {},
   "outputs": [],
   "source": [
    "def fact(num):\n",
    "    tmp=1\n",
    "    for i in range(1,num+1):\n",
    "        tmp*=i\n",
    "    return tmp"
   ]
  },
  {
   "cell_type": "code",
   "execution_count": 6,
   "metadata": {},
   "outputs": [
    {
     "name": "stdout",
     "output_type": "stream",
     "text": [
      "Please input a number for which factorial to be calculated: 6\n",
      "Factorial of 6 is 720\n"
     ]
    }
   ],
   "source": [
    "user_input=input('Please input a number for which factorial to be calculated: ')\n",
    "x=int(user_input)\n",
    "print('Factorial of {} is {}'.format(x,fact(x)))"
   ]
  },
  {
   "cell_type": "markdown",
   "metadata": {},
   "source": [
    "4. Python Program for simple interest\n",
    "\n",
    "    Simple Interest = (P x T x R)/100"
   ]
  },
  {
   "cell_type": "code",
   "execution_count": 7,
   "metadata": {},
   "outputs": [],
   "source": [
    "def simple_interest(p,r,t):\n",
    "    return p*r*t/100"
   ]
  },
  {
   "cell_type": "code",
   "execution_count": 8,
   "metadata": {},
   "outputs": [
    {
     "name": "stdout",
     "output_type": "stream",
     "text": [
      "Simple Interest given Principal Amt as 10000, Rate of Interest as 5 and Time as 6 = 3000.0\n"
     ]
    }
   ],
   "source": [
    "p=10000\n",
    "r=5\n",
    "t=6\n",
    "print('Simple Interest given Principal Amt as {}, Rate of Interest as {} and Time as {} = {}'.format(p,r,t,simple_interest(p,r,t)))"
   ]
  },
  {
   "cell_type": "markdown",
   "metadata": {},
   "source": [
    "5. Python Program for compound interest"
   ]
  },
  {
   "cell_type": "markdown",
   "metadata": {},
   "source": [
    "A = P(1 + R/100) t\n",
    "Compound Interest = A – P\n",
    "Where,\n",
    "A is amount\n",
    "P is principle amount\n",
    "R is the rate and\n",
    "T is the time span"
   ]
  },
  {
   "cell_type": "code",
   "execution_count": 9,
   "metadata": {},
   "outputs": [],
   "source": [
    "def compound_int(p,r,t):\n",
    "    amt=p*pow(1+r/100,t)\n",
    "    return amt-p"
   ]
  },
  {
   "cell_type": "code",
   "execution_count": 10,
   "metadata": {},
   "outputs": [
    {
     "name": "stdout",
     "output_type": "stream",
     "text": [
      "Compund Interest given Principal Amt as 10000, Rate of Interest as 5 and Time as 6 = 3400.96\n"
     ]
    }
   ],
   "source": [
    "p=10000\n",
    "r=5\n",
    "t=6\n",
    "print('Compund Interest given Principal Amt as {}, Rate of Interest as {} and Time as {} = {}'.format(p,r,t,round(compound_int(p,r,t),2)))"
   ]
  },
  {
   "cell_type": "markdown",
   "metadata": {},
   "source": [
    "6. Python Program to check Armstrong Number"
   ]
  },
  {
   "cell_type": "code",
   "execution_count": 11,
   "metadata": {},
   "outputs": [],
   "source": [
    "def is_armstrong(a):\n",
    "    sum=0\n",
    "    tmp=a\n",
    "    while(a>9):\n",
    "        sum=sum+pow(a%10,3)\n",
    "        a=a//10\n",
    "    sum=sum+pow(a,3)\n",
    "    if(sum==tmp):\n",
    "        return True\n",
    "    else:\n",
    "        return False"
   ]
  },
  {
   "cell_type": "code",
   "execution_count": 12,
   "metadata": {},
   "outputs": [
    {
     "name": "stdout",
     "output_type": "stream",
     "text": [
      "370 is an Armstrong Number\n"
     ]
    }
   ],
   "source": [
    "num=370\n",
    "if(is_armstrong(num)):\n",
    "    print('{} is an Armstrong Number'.format(num))\n",
    "else:\n",
    "    print('{} is not an Armstrong Number'.format(num))"
   ]
  },
  {
   "cell_type": "markdown",
   "metadata": {},
   "source": [
    "7. Python Program for Program to find area of a circle"
   ]
  },
  {
   "cell_type": "code",
   "execution_count": 13,
   "metadata": {},
   "outputs": [],
   "source": [
    "import math"
   ]
  },
  {
   "cell_type": "code",
   "execution_count": 14,
   "metadata": {},
   "outputs": [],
   "source": [
    "def find_cirarea(r):\n",
    "    return math.pi * pow(r,2)"
   ]
  },
  {
   "cell_type": "code",
   "execution_count": 15,
   "metadata": {},
   "outputs": [
    {
     "name": "stdout",
     "output_type": "stream",
     "text": [
      "Please enter the circle radius: 3\n",
      "Area the circle with radius 3.0 is 28.27\n"
     ]
    }
   ],
   "source": [
    "usr_input=input('Please enter the circle radius: ')\n",
    "usr_input=usr_input.strip()\n",
    "x=float(usr_input)\n",
    "print('Area the circle with radius {} is {}'.format(x,round(find_cirarea(x),2)))"
   ]
  },
  {
   "cell_type": "markdown",
   "metadata": {},
   "source": [
    "8. Python program to print all Prime numbers in an Interval"
   ]
  },
  {
   "cell_type": "code",
   "execution_count": 16,
   "metadata": {},
   "outputs": [],
   "source": [
    "def print_prime(a,b):\n",
    "    prime_l=[]\n",
    "    for i in range(a,b+1):\n",
    "        flag=0\n",
    "        for j in range(2,i//2):\n",
    "            if(i%j==0):\n",
    "                flag=1\n",
    "                break\n",
    "        if(flag==0):\n",
    "            prime_l.append(i)\n",
    "    return prime_l"
   ]
  },
  {
   "cell_type": "code",
   "execution_count": 17,
   "metadata": {},
   "outputs": [
    {
     "data": {
      "text/plain": [
       "[2, 3, 4, 5, 7]"
      ]
     },
     "execution_count": 17,
     "metadata": {},
     "output_type": "execute_result"
    }
   ],
   "source": [
    "print_prime(2,10)"
   ]
  },
  {
   "cell_type": "markdown",
   "metadata": {},
   "source": [
    "9. Python program to check whether a number is Prime or not"
   ]
  },
  {
   "cell_type": "code",
   "execution_count": 18,
   "metadata": {},
   "outputs": [],
   "source": [
    "def is_prime(num):\n",
    "    if(num==1):\n",
    "        return False\n",
    "    for i in range(2,num//2):\n",
    "        if(num%i==0):\n",
    "            return False\n",
    "    else:\n",
    "        return True"
   ]
  },
  {
   "cell_type": "code",
   "execution_count": 19,
   "metadata": {},
   "outputs": [
    {
     "name": "stdout",
     "output_type": "stream",
     "text": [
      "Check of 7 is prime or not:  True\n",
      "Check of 8 is prime or not:  False\n"
     ]
    }
   ],
   "source": [
    "print('Check of 7 is prime or not: ',is_prime(7))\n",
    "print('Check of 8 is prime or not: ',is_prime(8))"
   ]
  },
  {
   "cell_type": "markdown",
   "metadata": {},
   "source": [
    "10. Python Program for n-th Fibonacci number."
   ]
  },
  {
   "cell_type": "code",
   "execution_count": 20,
   "metadata": {},
   "outputs": [],
   "source": [
    "def fibonacci(n):\n",
    "    if(n<0):\n",
    "        print('Incorrect Input')\n",
    "    elif(n==1):\n",
    "        return 0\n",
    "    elif(n==2):\n",
    "        return 1\n",
    "    else:\n",
    "        return fibonacci(n-1) + fibonacci(n-2)"
   ]
  },
  {
   "cell_type": "code",
   "execution_count": 21,
   "metadata": {},
   "outputs": [
    {
     "name": "stdout",
     "output_type": "stream",
     "text": [
      "34\n",
      "21\n"
     ]
    }
   ],
   "source": [
    "print(fibonacci(10))\n",
    "print(fibonacci(9))"
   ]
  },
  {
   "cell_type": "markdown",
   "metadata": {},
   "source": [
    "11. Python Program for How to check if a given number is Fibonacci number?\n",
    "\n",
    "A number is Fibonacci if and only if one or both of (5*n2 + 4) or (5*n2 – 4) is a perfect square"
   ]
  },
  {
   "cell_type": "code",
   "execution_count": 22,
   "metadata": {},
   "outputs": [],
   "source": [
    "def is_fibonacci(n):\n",
    "    x=5*n*n+4\n",
    "    y=5*n*n-4\n",
    "    if(x==pow(int(math.sqrt(x)),2) or y==pow(int(math.sqrt(x)),2)):\n",
    "        return True\n",
    "    else:\n",
    "        return False"
   ]
  },
  {
   "cell_type": "code",
   "execution_count": 23,
   "metadata": {},
   "outputs": [
    {
     "name": "stdout",
     "output_type": "stream",
     "text": [
      "True\n",
      "False\n",
      "True\n",
      "True\n",
      "True\n",
      "False\n"
     ]
    }
   ],
   "source": [
    "print(is_fibonacci(13))\n",
    "print(is_fibonacci(20))\n",
    "print(is_fibonacci(21))\n",
    "print(is_fibonacci(0))\n",
    "print(is_fibonacci(1))\n",
    "print(is_fibonacci(100))"
   ]
  },
  {
   "cell_type": "markdown",
   "metadata": {},
   "source": [
    "12. Python Program for n\\’th multiple of a number in Fibonacci Series\n",
    "\n",
    "Fibonacci Series Follow a Periodic Pattern for position of 0 on modulus with a number."
   ]
  },
  {
   "cell_type": "code",
   "execution_count": 24,
   "metadata": {},
   "outputs": [],
   "source": [
    "def find_fibpos(k, n): \n",
    "    f1 = 0\n",
    "    f2 = 1\n",
    "    i =2;  \n",
    "    while i!=0: \n",
    "        f3 = f1 + f2; \n",
    "        f1 = f2; \n",
    "        f2 = f3; \n",
    "  \n",
    "        if f2%k == 0: \n",
    "            return n*i \n",
    "  \n",
    "        i+=1\n",
    "    return"
   ]
  },
  {
   "cell_type": "code",
   "execution_count": 25,
   "metadata": {},
   "outputs": [
    {
     "data": {
      "text/plain": [
       "48"
      ]
     },
     "execution_count": 25,
     "metadata": {},
     "output_type": "execute_result"
    }
   ],
   "source": [
    "find_fibpos(6, 4)"
   ]
  },
  {
   "cell_type": "markdown",
   "metadata": {},
   "source": [
    "13. Program to print ASCII Value of a character"
   ]
  },
  {
   "cell_type": "code",
   "execution_count": 26,
   "metadata": {},
   "outputs": [
    {
     "name": "stdout",
     "output_type": "stream",
     "text": [
      "Please enter the character: R\n",
      "The ascii value of the character R is 82\n"
     ]
    }
   ],
   "source": [
    "usr_inp=input('Please enter the character: ')\n",
    "print('The ascii value of the character {} is {}'.format(usr_inp,ord(usr_inp)))"
   ]
  },
  {
   "cell_type": "markdown",
   "metadata": {},
   "source": [
    "14. Python Program for Sum of squares of first n natural numbers"
   ]
  },
  {
   "cell_type": "code",
   "execution_count": 29,
   "metadata": {},
   "outputs": [
    {
     "name": "stdout",
     "output_type": "stream",
     "text": [
      "Please enter a natural number: 10\n",
      "Sum is:  385\n"
     ]
    }
   ],
   "source": [
    "n=int(input('Please enter a natural number: '))\n",
    "print('Sum is: ',sum([pow(i,2) for i in range(1,n+1)]))"
   ]
  },
  {
   "cell_type": "markdown",
   "metadata": {},
   "source": [
    "15. Python Program for cube sum of first n natural numbers"
   ]
  },
  {
   "cell_type": "code",
   "execution_count": 30,
   "metadata": {},
   "outputs": [
    {
     "name": "stdout",
     "output_type": "stream",
     "text": [
      "Please enter a natural number: 10\n",
      "Sum is:  3025\n"
     ]
    }
   ],
   "source": [
    "n=int(input('Please enter a natural number: '))\n",
    "print('Sum is: ',sum([pow(i,3) for i in range(1,n+1)]))"
   ]
  }
 ],
 "metadata": {
  "kernelspec": {
   "display_name": "Python 3",
   "language": "python",
   "name": "python3"
  },
  "language_info": {
   "codemirror_mode": {
    "name": "ipython",
    "version": 3
   },
   "file_extension": ".py",
   "mimetype": "text/x-python",
   "name": "python",
   "nbconvert_exporter": "python",
   "pygments_lexer": "ipython3",
   "version": "3.8.5"
  }
 },
 "nbformat": 4,
 "nbformat_minor": 4
}
